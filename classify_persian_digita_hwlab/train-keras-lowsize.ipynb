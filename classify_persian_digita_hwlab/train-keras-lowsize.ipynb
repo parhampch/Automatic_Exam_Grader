{
 "cells": [
  {
   "cell_type": "code",
   "execution_count": 11,
   "metadata": {},
   "outputs": [],
   "source": [
    "import os\n",
    "import matplotlib.pyplot as plt\n",
    "import numpy as np\n",
    "import PIL\n",
    "from PIL import Image\n",
    "import tensorflow as tf\n",
    "\n",
    "from tensorflow import keras\n",
    "from tensorflow.keras import layers\n",
    "from tensorflow.keras.models import Sequential\n",
    "import cv2"
   ]
  },
  {
   "cell_type": "code",
   "execution_count": 9,
   "metadata": {},
   "outputs": [],
   "source": [
    "def crop_image(img_url):\n",
    "    # Load image, grayscale, Gaussian blur, Otsu's threshold\n",
    "    image = cv2.imread(img_url)\n",
    "    original = image.copy()\n",
    "    gray = cv2.cvtColor(image, cv2.COLOR_BGR2GRAY)\n",
    "    blur = cv2.GaussianBlur(gray, (25,25), 0)\n",
    "    thresh = cv2.threshold(blur, 0, 255, cv2.THRESH_BINARY_INV + cv2.THRESH_OTSU)[1]\n",
    "\n",
    "    # Perform morph operations, first open to remove noise, then close to combine\n",
    "    noise_kernel = cv2.getStructuringElement(cv2.MORPH_RECT, (3,3))\n",
    "    opening = cv2.morphologyEx(thresh, cv2.MORPH_OPEN, noise_kernel, iterations=2)\n",
    "    close_kernel = cv2.getStructuringElement(cv2.MORPH_RECT, (7,7))\n",
    "    close = cv2.morphologyEx(opening, cv2.MORPH_CLOSE, close_kernel, iterations=3)\n",
    "\n",
    "    # Find enclosing boundingbox and crop ROI\n",
    "    coords = cv2.findNonZero(close)\n",
    "    x,y,w,h = cv2.boundingRect(coords)\n",
    "    cv2.rectangle(image, (x, y), (x + w, y + h), (36,255,12), 2)\n",
    "    crop = original[y:y+h, x:x+w]\n",
    "    cv2.imwrite(img_url, crop)"
   ]
  },
  {
   "cell_type": "code",
   "execution_count": 15,
   "metadata": {},
   "outputs": [],
   "source": [
    "batch_size = 8\n",
    "# img_height = 197\n",
    "img_height = 49\n",
    "img_width = 30\n",
    "# img_width = 200"
   ]
  },
  {
   "cell_type": "code",
   "execution_count": 14,
   "metadata": {},
   "outputs": [
    {
     "name": "stderr",
     "output_type": "stream",
     "text": [
      "/var/folders/15/bmbcw71s1l12pc4g0617fwww0000gn/T/ipykernel_48239/640277397.py:9: DeprecationWarning: ANTIALIAS is deprecated and will be removed in Pillow 10 (2023-07-01). Use Resampling.LANCZOS instead.\n",
      "  img = img.resize((30, 49), Image.ANTIALIAS)\n"
     ]
    }
   ],
   "source": [
    "dir_20 = \"dataset/both20-new\"\n",
    "dir_original = \"dataset/both20\"\n",
    "all_digits = ['0', '1', '2', '3', '4', '5', '6', '7', '8', '9']\n",
    "\n",
    "for digit in all_digits:\n",
    "    for filename in os.listdir(dir_original + \"/\" + digit):\n",
    "        crop_image(os.path.join(dir_original + \"/\" + digit, filename))\n",
    "        img = Image.open(os.path.join(dir_original + \"/\" + digit, filename))\n",
    "        img = img.resize((30, 49), Image.ANTIALIAS)\n",
    "        img.save(os.path.join(dir_20 + \"/\" + digit, filename))"
   ]
  },
  {
   "cell_type": "code",
   "execution_count": 16,
   "metadata": {},
   "outputs": [
    {
     "name": "stdout",
     "output_type": "stream",
     "text": [
      "Found 1000 files belonging to 10 classes.\n",
      "Using 800 files for training.\n",
      "Metal device set to: Apple M1 Pro\n",
      "\n",
      "systemMemory: 16.00 GB\n",
      "maxCacheSize: 5.33 GB\n",
      "\n"
     ]
    },
    {
     "name": "stderr",
     "output_type": "stream",
     "text": [
      "2023-06-29 16:17:28.284267: I tensorflow/core/common_runtime/pluggable_device/pluggable_device_factory.cc:305] Could not identify NUMA node of platform GPU ID 0, defaulting to 0. Your kernel may not have been built with NUMA support.\n",
      "2023-06-29 16:17:28.284641: I tensorflow/core/common_runtime/pluggable_device/pluggable_device_factory.cc:271] Created TensorFlow device (/job:localhost/replica:0/task:0/device:GPU:0 with 0 MB memory) -> physical PluggableDevice (device: 0, name: METAL, pci bus id: <undefined>)\n"
     ]
    }
   ],
   "source": [
    "train_ds = tf.keras.utils.image_dataset_from_directory(\n",
    "  \"dataset/both20-new\",\n",
    "  validation_split=0.2,\n",
    "  subset=\"training\",\n",
    "  seed=1,\n",
    "  image_size=(img_height, img_width),\n",
    "  batch_size=batch_size)"
   ]
  },
  {
   "cell_type": "code",
   "execution_count": 17,
   "metadata": {},
   "outputs": [
    {
     "name": "stdout",
     "output_type": "stream",
     "text": [
      "Found 1000 files belonging to 10 classes.\n",
      "Using 200 files for validation.\n"
     ]
    }
   ],
   "source": [
    "val_ds = tf.keras.utils.image_dataset_from_directory(\n",
    "  \"dataset/both20-new\",\n",
    "  validation_split=0.2,\n",
    "  subset=\"validation\",\n",
    "  seed=1,\n",
    "  image_size=(img_height, img_width),\n",
    "  batch_size=batch_size)"
   ]
  },
  {
   "cell_type": "code",
   "execution_count": 18,
   "metadata": {},
   "outputs": [
    {
     "name": "stdout",
     "output_type": "stream",
     "text": [
      "['0', '1', '2', '3', '4', '5', '6', '7', '8', '9']\n"
     ]
    }
   ],
   "source": [
    "class_names = train_ds.class_names\n",
    "print(class_names)"
   ]
  },
  {
   "cell_type": "code",
   "execution_count": 19,
   "metadata": {},
   "outputs": [],
   "source": [
    "AUTOTUNE = tf.data.AUTOTUNE\n",
    "\n",
    "train_ds = train_ds.cache().shuffle(1000).prefetch(buffer_size=AUTOTUNE)\n",
    "val_ds = val_ds.cache().prefetch(buffer_size=AUTOTUNE)"
   ]
  },
  {
   "cell_type": "code",
   "execution_count": 20,
   "metadata": {},
   "outputs": [],
   "source": [
    "num_classes = len(class_names)\n",
    "\n",
    "model = Sequential([\n",
    "  layers.Rescaling(1./255, input_shape=(img_height, img_width, 3)),\n",
    "  layers.Conv2D(16, 3, padding='same', activation='relu'),\n",
    "  layers.MaxPooling2D(),\n",
    "  layers.Conv2D(32, 3, padding='same', activation='relu'),\n",
    "  layers.MaxPooling2D(),\n",
    "  layers.Conv2D(64, 3, padding='same', activation='relu'),\n",
    "  layers.MaxPooling2D(),\n",
    "  layers.Flatten(),\n",
    "  layers.Dense(128, activation='relu'),\n",
    "  layers.Dense(num_classes)\n",
    "])"
   ]
  },
  {
   "cell_type": "code",
   "execution_count": 21,
   "metadata": {},
   "outputs": [],
   "source": [
    "model.compile(optimizer='adam',\n",
    "              loss=tf.keras.losses.SparseCategoricalCrossentropy(from_logits=True),\n",
    "              metrics=['accuracy'])"
   ]
  },
  {
   "cell_type": "code",
   "execution_count": 22,
   "metadata": {},
   "outputs": [
    {
     "name": "stdout",
     "output_type": "stream",
     "text": [
      "Model: \"sequential\"\n",
      "_________________________________________________________________\n",
      " Layer (type)                Output Shape              Param #   \n",
      "=================================================================\n",
      " rescaling (Rescaling)       (None, 49, 30, 3)         0         \n",
      "                                                                 \n",
      " conv2d (Conv2D)             (None, 49, 30, 16)        448       \n",
      "                                                                 \n",
      " max_pooling2d (MaxPooling2D  (None, 24, 15, 16)       0         \n",
      " )                                                               \n",
      "                                                                 \n",
      " conv2d_1 (Conv2D)           (None, 24, 15, 32)        4640      \n",
      "                                                                 \n",
      " max_pooling2d_1 (MaxPooling  (None, 12, 7, 32)        0         \n",
      " 2D)                                                             \n",
      "                                                                 \n",
      " conv2d_2 (Conv2D)           (None, 12, 7, 64)         18496     \n",
      "                                                                 \n",
      " max_pooling2d_2 (MaxPooling  (None, 6, 3, 64)         0         \n",
      " 2D)                                                             \n",
      "                                                                 \n",
      " flatten (Flatten)           (None, 1152)              0         \n",
      "                                                                 \n",
      " dense (Dense)               (None, 128)               147584    \n",
      "                                                                 \n",
      " dense_1 (Dense)             (None, 10)                1290      \n",
      "                                                                 \n",
      "=================================================================\n",
      "Total params: 172,458\n",
      "Trainable params: 172,458\n",
      "Non-trainable params: 0\n",
      "_________________________________________________________________\n"
     ]
    }
   ],
   "source": [
    "model.summary()"
   ]
  },
  {
   "cell_type": "code",
   "execution_count": 23,
   "metadata": {},
   "outputs": [
    {
     "name": "stdout",
     "output_type": "stream",
     "text": [
      "Epoch 1/10\n"
     ]
    },
    {
     "name": "stderr",
     "output_type": "stream",
     "text": [
      "2023-06-29 16:17:51.414513: W tensorflow/core/platform/profile_utils/cpu_utils.cc:128] Failed to get CPU frequency: 0 Hz\n",
      "2023-06-29 16:17:51.415142: I tensorflow/core/grappler/optimizers/custom_graph_optimizer_registry.cc:113] Plugin optimizer for device_type GPU is enabled.\n"
     ]
    },
    {
     "name": "stdout",
     "output_type": "stream",
     "text": [
      "100/100 [==============================] - 4s 14ms/step - loss: 0.5421 - accuracy: 0.8462 - val_loss: 2.5254e-04 - val_accuracy: 1.0000\n"
     ]
    },
    {
     "name": "stderr",
     "output_type": "stream",
     "text": [
      "2023-06-29 16:17:55.130029: I tensorflow/core/grappler/optimizers/custom_graph_optimizer_registry.cc:113] Plugin optimizer for device_type GPU is enabled.\n"
     ]
    },
    {
     "name": "stdout",
     "output_type": "stream",
     "text": [
      "Epoch 2/10\n",
      "100/100 [==============================] - 2s 17ms/step - loss: 1.3769e-04 - accuracy: 1.0000 - val_loss: 1.1148e-04 - val_accuracy: 1.0000\n",
      "Epoch 3/10\n",
      "100/100 [==============================] - 1s 12ms/step - loss: 7.0618e-05 - accuracy: 1.0000 - val_loss: 5.7464e-05 - val_accuracy: 1.0000\n",
      "Epoch 4/10\n",
      "100/100 [==============================] - 1s 13ms/step - loss: 4.2300e-05 - accuracy: 1.0000 - val_loss: 4.0842e-05 - val_accuracy: 1.0000\n",
      "Epoch 5/10\n",
      "100/100 [==============================] - 1s 12ms/step - loss: 2.9612e-05 - accuracy: 1.0000 - val_loss: 2.6768e-05 - val_accuracy: 1.0000\n",
      "Epoch 6/10\n",
      "100/100 [==============================] - 1s 11ms/step - loss: 2.1359e-05 - accuracy: 1.0000 - val_loss: 1.9763e-05 - val_accuracy: 1.0000\n",
      "Epoch 7/10\n",
      "100/100 [==============================] - 1s 11ms/step - loss: 1.6133e-05 - accuracy: 1.0000 - val_loss: 1.5122e-05 - val_accuracy: 1.0000\n",
      "Epoch 8/10\n",
      "100/100 [==============================] - 1s 11ms/step - loss: 1.2591e-05 - accuracy: 1.0000 - val_loss: 1.1768e-05 - val_accuracy: 1.0000\n",
      "Epoch 9/10\n",
      "100/100 [==============================] - 1s 11ms/step - loss: 1.0108e-05 - accuracy: 1.0000 - val_loss: 9.4623e-06 - val_accuracy: 1.0000\n",
      "Epoch 10/10\n",
      "100/100 [==============================] - 1s 11ms/step - loss: 8.2411e-06 - accuracy: 1.0000 - val_loss: 7.7792e-06 - val_accuracy: 1.0000\n"
     ]
    }
   ],
   "source": [
    "epochs=10\n",
    "history = model.fit(\n",
    "  train_ds,\n",
    "  validation_data=val_ds,\n",
    "  epochs=epochs\n",
    ")"
   ]
  },
  {
   "cell_type": "code",
   "execution_count": 30,
   "metadata": {},
   "outputs": [
    {
     "name": "stdout",
     "output_type": "stream",
     "text": [
      "25/25 [==============================] - 0s 9ms/step - loss: 7.7792e-06 - accuracy: 1.0000\n",
      "1.0\n"
     ]
    }
   ],
   "source": [
    "print(model.evaluate(val_ds)[1])"
   ]
  },
  {
   "cell_type": "code",
   "execution_count": 24,
   "metadata": {},
   "outputs": [
    {
     "data": {
      "image/png": "[encoded data removed]",
      "text/plain": [
       "<Figure size 576x576 with 2 Axes>"
      ]
     },
     "metadata": {
      "needs_background": "light"
     },
     "output_type": "display_data"
    }
   ],
   "source": [
    "acc = history.history['accuracy']\n",
    "val_acc = history.history['val_accuracy']\n",
    "\n",
    "loss = history.history['loss']\n",
    "val_loss = history.history['val_loss']\n",
    "\n",
    "epochs_range = range(epochs)\n",
    "\n",
    "plt.figure(figsize=(8, 8))\n",
    "plt.subplot(1, 2, 1)\n",
    "plt.plot(epochs_range, acc, label='Training Accuracy')\n",
    "plt.plot(epochs_range, val_acc, label='Validation Accuracy')\n",
    "plt.legend(loc='lower right')\n",
    "plt.title('Training and Validation Accuracy')\n",
    "\n",
    "plt.subplot(1, 2, 2)\n",
    "plt.plot(epochs_range, loss, label='Training Loss')\n",
    "plt.plot(epochs_range, val_loss, label='Validation Loss')\n",
    "plt.legend(loc='upper right')\n",
    "plt.title('Training and Validation Loss')\n",
    "plt.show()"
   ]
  },
  {
   "cell_type": "code",
   "execution_count": 25,
   "metadata": {},
   "outputs": [],
   "source": [
    "def recognize_image(path):\n",
    "    img = tf.keras.utils.load_img(\n",
    "        path, target_size=(img_height, img_width)\n",
    "    )\n",
    "    img_array = tf.keras.utils.img_to_array(img)\n",
    "    img_array = tf.expand_dims(img_array, 0) # Create a batch\n",
    "\n",
    "    predictions = model.predict(img_array)\n",
    "    score = tf.nn.softmax(predictions[0])\n",
    "\n",
    "    print(\n",
    "        \"This image most likely belongs to {} with a {:.2f} percent confidence.\"\n",
    "        .format(class_names[np.argmax(score)], 100 * np.max(score))\n",
    "    )"
   ]
  },
  {
   "cell_type": "code",
   "execution_count": 27,
   "metadata": {},
   "outputs": [
    {
     "name": "stdout",
     "output_type": "stream",
     "text": [
      "This image most likely belongs to 0 with a 100.00 percent confidence.\n",
      "This image most likely belongs to 0 with a 100.00 percent confidence.\n",
      "This image most likely belongs to 0 with a 100.00 percent confidence.\n",
      "This image most likely belongs to 0 with a 100.00 percent confidence.\n",
      "This image most likely belongs to 0 with a 100.00 percent confidence.\n",
      "This image most likely belongs to 1 with a 100.00 percent confidence.\n",
      "This image most likely belongs to 0 with a 100.00 percent confidence.\n",
      "This image most likely belongs to 3 with a 100.00 percent confidence.\n"
     ]
    }
   ],
   "source": [
    "recognize_image(\"dataset/both20-new/0/1zero.jpg\")\n",
    "recognize_image(\"dataset/both20-new/0/2zero.jpg\")\n",
    "recognize_image(\"dataset/both20-new/0/3zero.jpg\")\n",
    "recognize_image(\"dataset/both20-new/0/4zero.jpg\")\n",
    "recognize_image(\"dataset/both20-new/0/5zero.jpg\")\n",
    "recognize_image(\"dataset/both20-new/1/28one.jpg\")\n",
    "recognize_image(\"dataset/both20-new/0/30zero.jpg\")\n",
    "recognize_image(\"dataset/both20-new/3/9three.jpg\")"
   ]
  },
  {
   "cell_type": "code",
   "execution_count": 28,
   "metadata": {},
   "outputs": [],
   "source": [
    "# save model to file\n",
    "model.save(\"model-small-pics.h5\")"
   ]
  }
 ],
 "metadata": {
  "kernelspec": {
   "display_name": "env_tf",
   "language": "python",
   "name": "python3"
  },
  "language_info": {
   "codemirror_mode": {
    "name": "ipython",
    "version": 3
   },
   "file_extension": ".py",
   "mimetype": "text/x-python",
   "name": "python",
   "nbconvert_exporter": "python",
   "pygments_lexer": "ipython3",
   "version": "3.9.12"
  },
  "orig_nbformat": 4
 },
 "nbformat": 4,
 "nbformat_minor": 2
}

{
 "cells": [
  {
   "cell_type": "code",
   "execution_count": 5,
   "metadata": {},
   "outputs": [],
   "source": [
    "import os\n",
    "import random"
   ]
  },
  {
   "cell_type": "code",
   "execution_count": 6,
   "metadata": {},
   "outputs": [],
   "source": [
    "for i in range(0, 10):\n",
    "    # store the name of all the files in the directory 'raw' into an array called files\n",
    "    files = os.listdir('raw/' + str(i))\n",
    "    # filter out all the files that are not .jpg files\n",
    "    files = [file for file in files if file.endswith('.jpg')]\n",
    "    # shuffle the files array\n",
    "    random.shuffle(files)\n",
    "    # split the files array into 80% training and 20% testing\n",
    "    train = files[:int(len(files) * 0.8)]\n",
    "    test = files[int(len(files) * 0.8):]\n",
    "    # move the files into the respective directories\n",
    "    for file in train:\n",
    "        os.rename('raw/' + str(i) + '/' + file, 'dataset/train/' + str(i) + '/' + file)\n",
    "    for file in test:\n",
    "        os.rename('raw/' + str(i) + '/' + file, 'dataset/test/' + str(i) + '/' + file)\n",
    "    "
   ]
  }
 ],
 "metadata": {
  "kernelspec": {
   "display_name": "env_tf",
   "language": "python",
   "name": "python3"
  },
  "language_info": {
   "codemirror_mode": {
    "name": "ipython",
    "version": 3
   },
   "file_extension": ".py",
   "mimetype": "text/x-python",
   "name": "python",
   "nbconvert_exporter": "python",
   "pygments_lexer": "ipython3",
   "version": "3.9.12"
  },
  "orig_nbformat": 4
 },
 "nbformat": 4,
 "nbformat_minor": 2
}

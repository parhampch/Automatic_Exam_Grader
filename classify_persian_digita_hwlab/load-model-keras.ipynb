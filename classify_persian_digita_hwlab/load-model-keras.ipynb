{
 "cells": [
  {
   "cell_type": "code",
   "execution_count": 1,
   "metadata": {},
   "outputs": [],
   "source": [
    "import matplotlib.pyplot as plt\n",
    "import numpy as np\n",
    "import PIL\n",
    "import tensorflow as tf\n",
    "\n",
    "from tensorflow import keras\n",
    "from tensorflow.keras import layers\n",
    "from tensorflow.keras.models import Sequential"
   ]
  },
  {
   "cell_type": "code",
   "execution_count": 4,
   "metadata": {},
   "outputs": [],
   "source": [
    "img_height = 197\n",
    "img_width = 200\n",
    "class_names = ['0', '1', '2', '3', '4', '5', '6', '7', '8', '9']\n",
    "# load model \"model.h5\"\n",
    "model = keras.models.load_model('model.h5')"
   ]
  },
  {
   "cell_type": "code",
   "execution_count": 5,
   "metadata": {},
   "outputs": [],
   "source": [
    "def recognize_image(path):\n",
    "    img = tf.keras.utils.load_img(\n",
    "        path, target_size=(img_height, img_width)\n",
    "    )\n",
    "    img_array = tf.keras.utils.img_to_array(img)\n",
    "    img_array = tf.expand_dims(img_array, 0) # Create a batch\n",
    "\n",
    "    predictions = model.predict(img_array)\n",
    "    score = tf.nn.softmax(predictions[0])\n",
    "\n",
    "    print(\n",
    "        \"This image most likely belongs to {} with a {:.2f} percent confidence.\"\n",
    "        .format(class_names[np.argmax(score)], 100 * np.max(score))\n",
    "    )"
   ]
  },
  {
   "cell_type": "code",
   "execution_count": 7,
   "metadata": {},
   "outputs": [
    {
     "name": "stdout",
     "output_type": "stream",
     "text": [
      "This image most likely belongs to 0 with a 100.00 percent confidence.\n",
      "This image most likely belongs to 2 with a 100.00 percent confidence.\n",
      "This image most likely belongs to 4 with a 99.99 percent confidence.\n",
      "This image most likely belongs to 3 with a 99.98 percent confidence.\n",
      "This image most likely belongs to 6 with a 100.00 percent confidence.\n",
      "This image most likely belongs to 1 with a 100.00 percent confidence.\n",
      "This image most likely belongs to 5 with a 100.00 percent confidence.\n",
      "This image most likely belongs to 9 with a 100.00 percent confidence.\n",
      "This image most likely belongs to 8 with a 100.00 percent confidence.\n",
      "This image most likely belongs to 7 with a 100.00 percent confidence.\n"
     ]
    }
   ],
   "source": [
    "recognize_image(\"dataset/both/0/1zero.jpg\")\n",
    "recognize_image(\"dataset/both/2/2two.jpg\")\n",
    "recognize_image(\"dataset/both/4/3four.jpg\")\n",
    "recognize_image(\"dataset/both/3/4three.jpg\")\n",
    "recognize_image(\"dataset/both/6/5six.jpg\")\n",
    "recognize_image(\"dataset/both/1/28one.jpg\")\n",
    "recognize_image(\"dataset/both/5/30five.jpg\")\n",
    "recognize_image(\"dataset/both/9/9nine.jpg\")\n",
    "recognize_image(\"dataset/both/8/8eight.jpg\")\n",
    "recognize_image(\"dataset/both/7/12seven.jpg\")"
   ]
  }
 ],
 "metadata": {
  "kernelspec": {
   "display_name": "env_tf",
   "language": "python",
   "name": "python3"
  },
  "language_info": {
   "codemirror_mode": {
    "name": "ipython",
    "version": 3
   },
   "file_extension": ".py",
   "mimetype": "text/x-python",
   "name": "python",
   "nbconvert_exporter": "python",
   "pygments_lexer": "ipython3",
   "version": "3.9.12"
  },
  "orig_nbformat": 4
 },
 "nbformat": 4,
 "nbformat_minor": 2
}
